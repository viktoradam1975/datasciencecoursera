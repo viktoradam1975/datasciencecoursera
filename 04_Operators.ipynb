{
  "cells": [
    {
      "cell_type": "markdown",
      "metadata": {
        "id": "view-in-github",
        "colab_type": "text"
      },
      "source": [
        "<a href=\"https://colab.research.google.com/github/viktoradam1975/datasciencecoursera/blob/master/04_Operators.ipynb\" target=\"_parent\"><img src=\"https://colab.research.google.com/assets/colab-badge.svg\" alt=\"Open In Colab\"/></a>"
      ]
    },
    {
      "cell_type": "markdown",
      "metadata": {
        "id": "LE1zbgKYxV55"
      },
      "source": [
        "# Operators\n",
        "\n",
        "Operators are processes that access and manipulate objects. In Python, there are many different built in operators.\n",
        "\n",
        "Some common `mathematical` operators include:\n",
        "- `+`: Addition\n",
        "- `-`: Subtraction (or numeric negation)\n",
        "- `*`: Multiplication\n",
        "- `/`: Division\n",
        "- `**`: Exponeniation\n",
        "- `//`: Floor Division\n",
        "- `%`: Modulo"
      ]
    },
    {
      "cell_type": "code",
      "execution_count": null,
      "metadata": {
        "colab": {
          "base_uri": "https://localhost:8080/"
        },
        "execution": {
          "iopub.execute_input": "2022-12-19T18:50:13.443696Z",
          "iopub.status.busy": "2022-12-19T18:50:13.443147Z",
          "iopub.status.idle": "2022-12-19T18:50:13.450837Z",
          "shell.execute_reply": "2022-12-19T18:50:13.450422Z"
        },
        "id": "ErsjXqdZV-ZQ",
        "outputId": "4b3d78f6-a85f-47df-8878-4e0e33fa8eda"
      },
      "outputs": [
        {
          "output_type": "stream",
          "name": "stdout",
          "text": [
            "5+3:   8\n",
            "5-3:   2\n",
            "5*3:   15\n",
            "5/3:   1.6666666666666667\n",
            "5**3:  125\n",
            "5//3:  1\n",
            "5%3:   2\n"
          ]
        }
      ],
      "source": [
        "print('5+3:  ', 5+3)\n",
        "print('5-3:  ', 5-3)\n",
        "print('5*3:  ', 5*3)\n",
        "print('5/3:  ', 5/3)\n",
        "print('5**3: ', 5**3)\n",
        "print('5//3: ', 5//3)\n",
        "print('5%3:  ', 5%3)"
      ]
    },
    {
      "cell_type": "markdown",
      "metadata": {
        "id": "QKNPDkUAgK7E"
      },
      "source": [
        "Some common mathematical operations include:\n",
        "- `int`: Integer (remove decimals and make integer)\n",
        "- `round`: Round"
      ]
    },
    {
      "cell_type": "code",
      "execution_count": null,
      "metadata": {
        "colab": {
          "base_uri": "https://localhost:8080/"
        },
        "execution": {
          "iopub.execute_input": "2022-12-19T18:50:13.476858Z",
          "iopub.status.busy": "2022-12-19T18:50:13.476654Z",
          "iopub.status.idle": "2022-12-19T18:50:13.480454Z",
          "shell.execute_reply": "2022-12-19T18:50:13.479856Z"
        },
        "id": "Iu0puwe-gSKt",
        "outputId": "41cd2072-c2fa-4e70-9d2b-2e74a0690deb"
      },
      "outputs": [
        {
          "output_type": "stream",
          "name": "stdout",
          "text": [
            "5\n",
            "-5\n",
            "6\n",
            "-6\n"
          ]
        }
      ],
      "source": [
        "print(int(5.789))\n",
        "print(int(-5.789))\n",
        "print(round(5.789))\n",
        "print(round(-5.789))"
      ]
    },
    {
      "cell_type": "markdown",
      "metadata": {
        "id": "4wg54WNodUJI"
      },
      "source": [
        "Some common `string` operators include:\n",
        "- `+` Concatenation"
      ]
    },
    {
      "cell_type": "code",
      "execution_count": null,
      "metadata": {
        "colab": {
          "base_uri": "https://localhost:8080/"
        },
        "execution": {
          "iopub.execute_input": "2022-12-19T18:50:13.482497Z",
          "iopub.status.busy": "2022-12-19T18:50:13.482074Z",
          "iopub.status.idle": "2022-12-19T18:50:13.485330Z",
          "shell.execute_reply": "2022-12-19T18:50:13.484790Z"
        },
        "id": "V2IpE-2Dd6JJ",
        "outputId": "9960b1b0-0217-4ae1-9c0f-018c38a519ba"
      },
      "outputs": [
        {
          "output_type": "stream",
          "name": "stdout",
          "text": [
            "ABC XYZ\n"
          ]
        }
      ],
      "source": [
        "print('ABC'+' '+'XYZ')"
      ]
    },
    {
      "cell_type": "markdown",
      "metadata": {
        "id": "SN4Q20lndWjv"
      },
      "source": [
        "Some common `logical` operators include:\n",
        "- `and`: And\n",
        "- `or`: Or\n",
        "- `not`: Not (or boolean negation)"
      ]
    },
    {
      "cell_type": "code",
      "execution_count": null,
      "metadata": {
        "colab": {
          "base_uri": "https://localhost:8080/"
        },
        "execution": {
          "iopub.execute_input": "2022-12-19T18:50:13.487399Z",
          "iopub.status.busy": "2022-12-19T18:50:13.486941Z",
          "iopub.status.idle": "2022-12-19T18:50:13.490271Z",
          "shell.execute_reply": "2022-12-19T18:50:13.489797Z"
        },
        "id": "cVH0hb9LeH-3",
        "outputId": "a35882c0-d584-49fb-c4df-634e19e53316"
      },
      "outputs": [
        {
          "output_type": "stream",
          "name": "stdout",
          "text": [
            "True and False:  False\n",
            "True and True:   True\n",
            "True or False:   True\n",
            "False or False:  False\n",
            "not True:        False\n",
            "not False:       True\n"
          ]
        }
      ],
      "source": [
        "print('True and False: ', True and False)\n",
        "print('True and True:  ', True and True)\n",
        "print('True or False:  ', True or False)\n",
        "print('False or False: ', False or False)\n",
        "print('not True:       ', not True)\n",
        "print('not False:      ', not False)"
      ]
    },
    {
      "cell_type": "markdown",
      "metadata": {
        "id": "y525wS9vdWuO"
      },
      "source": [
        "Some common `comparison` operators include:\n",
        "- `<`: Is less than\n",
        "- `<=`: Is less than or equal to\n",
        "- `==`: Is equal to value\n",
        "- `is`: Is equal to reference object\n",
        "- `!=`: Is not equal to value\n",
        "- `is not`: Is not equal to reference object\n",
        "- `>`: Is greater than\n",
        "- `>=`: Is greater than or equal to"
      ]
    },
    {
      "cell_type": "code",
      "execution_count": null,
      "metadata": {
        "colab": {
          "base_uri": "https://localhost:8080/"
        },
        "execution": {
          "iopub.execute_input": "2022-12-19T18:50:13.492031Z",
          "iopub.status.busy": "2022-12-19T18:50:13.491926Z",
          "iopub.status.idle": "2022-12-19T18:50:13.495339Z",
          "shell.execute_reply": "2022-12-19T18:50:13.494914Z"
        },
        "id": "98hb9Az6eqTc",
        "outputId": "570a7ff0-9090-443f-fa7d-00a3f2554f70"
      },
      "outputs": [
        {
          "output_type": "stream",
          "name": "stdout",
          "text": [
            "5<6:            True\n",
            "5<5:            False\n",
            "5<=5:           True\n",
            "5==5:           True\n",
            "5==5.0:         True\n",
            "5 is 5.0:       False\n",
            "5 is not 5.0:   True\n",
            "5!=5.0:         False\n",
            "6>5:            True\n",
            "6>=5:           True\n"
          ]
        },
        {
          "output_type": "stream",
          "name": "stderr",
          "text": [
            "<>:6: SyntaxWarning: \"is\" with a literal. Did you mean \"==\"?\n",
            "<>:7: SyntaxWarning: \"is not\" with a literal. Did you mean \"!=\"?\n",
            "<>:6: SyntaxWarning: \"is\" with a literal. Did you mean \"==\"?\n",
            "<>:7: SyntaxWarning: \"is not\" with a literal. Did you mean \"!=\"?\n",
            "<ipython-input-5-ef75fbc22065>:6: SyntaxWarning: \"is\" with a literal. Did you mean \"==\"?\n",
            "  print('5 is 5.0:      ', 5 is 5.0)\n",
            "<ipython-input-5-ef75fbc22065>:7: SyntaxWarning: \"is not\" with a literal. Did you mean \"!=\"?\n",
            "  print('5 is not 5.0:  ', 5 is not 5.0)\n"
          ]
        }
      ],
      "source": [
        "print('5<6:           ', 5<6)\n",
        "print('5<5:           ', 5<5)\n",
        "print('5<=5:          ', 5<=5)\n",
        "print('5==5:          ', 5==5)\n",
        "print('5==5.0:        ', 5==5.0)\n",
        "print('5 is 5.0:      ', 5 is 5.0)\n",
        "print('5 is not 5.0:  ', 5 is not 5.0)\n",
        "print('5!=5.0:        ', 5!=5.0)\n",
        "print('6>5:           ', 6>5)\n",
        "print('6>=5:          ', 6>=5)"
      ]
    },
    {
      "cell_type": "markdown",
      "metadata": {
        "id": "7ppI9UBfjxth"
      },
      "source": [
        "Note: Did you notice that red message at the end of our last code? Sometimes Python, depending the notebook you are using, sends us syntaxwarning messages that don't represent errors but just recommendations. You can see also that you got an outcome for your code, which means there was no error, and all worked as expected.\n",
        "\n"
      ]
    }
  ],
  "metadata": {
    "colab": {
      "provenance": [],
      "include_colab_link": true
    },
    "kernelspec": {
      "display_name": "Python 3 (ipykernel)",
      "language": "python",
      "name": "python3"
    },
    "language_info": {
      "codemirror_mode": {
        "name": "ipython",
        "version": 3
      },
      "file_extension": ".py",
      "mimetype": "text/x-python",
      "name": "python",
      "nbconvert_exporter": "python",
      "pygments_lexer": "ipython3",
      "version": "3.10.9"
    }
  },
  "nbformat": 4,
  "nbformat_minor": 0
}