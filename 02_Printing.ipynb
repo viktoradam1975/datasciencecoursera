{
  "nbformat": 4,
  "nbformat_minor": 0,
  "metadata": {
    "colab": {
      "provenance": [],
      "include_colab_link": true
    },
    "kernelspec": {
      "name": "python3",
      "display_name": "Python 3"
    },
    "language_info": {
      "name": "python"
    }
  },
  "cells": [
    {
      "cell_type": "markdown",
      "metadata": {
        "id": "view-in-github",
        "colab_type": "text"
      },
      "source": [
        "<a href=\"https://colab.research.google.com/github/viktoradam1975/datasciencecoursera/blob/master/02_Printing.ipynb\" target=\"_parent\"><img src=\"https://colab.research.google.com/assets/colab-badge.svg\" alt=\"Open In Colab\"/></a>"
      ]
    },
    {
      "cell_type": "markdown",
      "metadata": {
        "id": "GtIMi2M6r6wP"
      },
      "source": [
        "## Printing\n",
        "A quick digression to explain how to output/print values in Python."
      ]
    },
    {
      "cell_type": "markdown",
      "metadata": {
        "id": "hi2xdnoVrDcV"
      },
      "source": [
        "In a notebook (and in interactive Python shells), if the last line in a cell returns a value, that value is printed automatically."
      ]
    },
    {
      "cell_type": "code",
      "execution_count": null,
      "metadata": {
        "colab": {
          "base_uri": "https://localhost:8080/"
        },
        "execution": {
          "iopub.execute_input": "2022-12-19T18:50:21.891657Z",
          "iopub.status.busy": "2022-12-19T18:50:21.891433Z",
          "iopub.status.idle": "2022-12-19T18:50:21.900764Z",
          "shell.execute_reply": "2022-12-19T18:50:21.900289Z"
        },
        "id": "bCNr5e73rdwN",
        "outputId": "d85334df-a4e9-42fe-9e37-5e7c5135c6a5"
      },
      "outputs": [
        {
          "output_type": "execute_result",
          "data": {
            "text/plain": [
              "7"
            ]
          },
          "metadata": {},
          "execution_count": 4
        }
      ],
      "source": [
        "y=7\n",
        "y"
      ]
    },
    {
      "cell_type": "markdown",
      "metadata": {
        "id": "p61p3XG_rkiD"
      },
      "source": [
        "If an object to be called is not the last line, it is not printed."
      ]
    },
    {
      "cell_type": "code",
      "execution_count": null,
      "metadata": {
        "execution": {
          "iopub.execute_input": "2022-12-19T18:50:21.902369Z",
          "iopub.status.busy": "2022-12-19T18:50:21.902258Z",
          "iopub.status.idle": "2022-12-19T18:50:21.904636Z",
          "shell.execute_reply": "2022-12-19T18:50:21.904188Z"
        },
        "id": "lld-XtlZrqdW"
      },
      "outputs": [],
      "source": [
        "y\n",
        "z=2"
      ]
    },
    {
      "cell_type": "markdown",
      "metadata": {
        "id": "2RavIviArxNl"
      },
      "source": [
        "To print this, you would need to call the `print` statement."
      ]
    },
    {
      "cell_type": "code",
      "execution_count": null,
      "metadata": {
        "colab": {
          "base_uri": "https://localhost:8080/"
        },
        "execution": {
          "iopub.execute_input": "2022-12-19T18:50:21.906439Z",
          "iopub.status.busy": "2022-12-19T18:50:21.906309Z",
          "iopub.status.idle": "2022-12-19T18:50:21.908874Z",
          "shell.execute_reply": "2022-12-19T18:50:21.908476Z"
        },
        "id": "fRLyLXSbr2pr",
        "outputId": "43fa145d-bf76-40e5-9be2-42753e1405bd"
      },
      "outputs": [
        {
          "output_type": "stream",
          "name": "stdout",
          "text": [
            "7\n"
          ]
        }
      ],
      "source": [
        "print(y)\n",
        "z=2"
      ]
    },
    {
      "cell_type": "markdown",
      "metadata": {
        "id": "UAgKbP4EeimJ"
      },
      "source": [
        "We can also print the output of operations."
      ]
    },
    {
      "cell_type": "code",
      "execution_count": null,
      "metadata": {
        "colab": {
          "base_uri": "https://localhost:8080/"
        },
        "execution": {
          "iopub.execute_input": "2022-12-19T18:50:21.910770Z",
          "iopub.status.busy": "2022-12-19T18:50:21.910361Z",
          "iopub.status.idle": "2022-12-19T18:50:21.913128Z",
          "shell.execute_reply": "2022-12-19T18:50:21.912658Z"
        },
        "id": "oBuFFS13PFvx",
        "outputId": "9f883296-4771-42a4-e1dc-043ca17b30c0"
      },
      "outputs": [
        {
          "output_type": "stream",
          "name": "stdout",
          "text": [
            "290\n"
          ]
        }
      ],
      "source": [
        "x=10\n",
        "print(x*29)"
      ]
    }
  ]
}