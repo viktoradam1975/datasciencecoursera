{
  "cells": [
    {
      "cell_type": "markdown",
      "metadata": {
        "id": "view-in-github",
        "colab_type": "text"
      },
      "source": [
        "<a href=\"https://colab.research.google.com/github/viktoradam1975/datasciencecoursera/blob/master/03_Strings_and_String_Formatting.ipynb\" target=\"_parent\"><img src=\"https://colab.research.google.com/assets/colab-badge.svg\" alt=\"Open In Colab\"/></a>"
      ]
    },
    {
      "cell_type": "markdown",
      "metadata": {
        "id": "668DO8ARJf97"
      },
      "source": [
        "# Strings\n",
        "\n",
        "In Python, the ability to format strings allows for a wide swath of functionaility.\n",
        "\n",
        "\n",
        "## How Strings Work\n",
        "\n",
        "Lets first dive into how strings work.\n",
        "\n",
        "Some common string enclosures you mihgt see include:\n",
        "- `'`: Single Quotes (allows single line strings only)\n",
        "- `\"`: Double Quotes (allows single line strings only)\n",
        "- `'''`: Triple Single Quotes (allows multi line strings)\n",
        "- `\"\"\"`: Triple Double Quotes (allows multi line strings)\n",
        "\n",
        "While all of the string enclosures operate similar, there a few differences. Triple double quotes and triple single quotes both allow multi line strings, while single and double quotes do not."
      ]
    },
    {
      "cell_type": "code",
      "execution_count": null,
      "metadata": {
        "colab": {
          "base_uri": "https://localhost:8080/"
        },
        "execution": {
          "iopub.execute_input": "2022-12-19T18:50:20.249102Z",
          "iopub.status.busy": "2022-12-19T18:50:20.248871Z",
          "iopub.status.idle": "2022-12-19T18:50:20.257243Z",
          "shell.execute_reply": "2022-12-19T18:50:20.256803Z"
        },
        "id": "TVtqlX5GJdad",
        "outputId": "2d39d144-ea7c-454d-bb9d-ae600097df67"
      },
      "outputs": [
        {
          "output_type": "stream",
          "name": "stdout",
          "text": [
            "abc\n",
            "def\n",
            "\n",
            "\n",
            "ghi\n",
            "\n",
            "\n",
            "\n",
            "\n",
            "jkl\n",
            "\n",
            "\n"
          ]
        }
      ],
      "source": [
        "x='abc'\n",
        "y=\"def\"\n",
        "z=\"\"\"\n",
        "\n",
        "ghi\n",
        "\n",
        "\"\"\"\n",
        "q='''\n",
        "\n",
        "jkl\n",
        "\n",
        "'''\n",
        "print(x)\n",
        "print(y)\n",
        "print(z)\n",
        "print(q)"
      ]
    },
    {
      "cell_type": "markdown",
      "metadata": {
        "id": "JL0pTbi2LX1D"
      },
      "source": [
        "The other key difference is which quotes need escaped in the string.\n",
        "\n",
        "For example if you have double quotes inside of a double quoted string, the python interpreter is not sure where the string should end and will error out:"
      ]
    },
    {
      "cell_type": "code",
      "execution_count": null,
      "metadata": {
        "colab": {
          "base_uri": "https://localhost:8080/",
          "height": 141
        },
        "execution": {
          "iopub.execute_input": "2022-12-19T18:50:20.283093Z",
          "iopub.status.busy": "2022-12-19T18:50:20.282865Z",
          "iopub.status.idle": "2022-12-19T18:50:20.286492Z",
          "shell.execute_reply": "2022-12-19T18:50:20.286009Z"
        },
        "id": "AqhnzrORLkCP",
        "outputId": "81f717f1-2585-4e5f-f65f-ff768f58fe69"
      },
      "outputs": [
        {
          "output_type": "error",
          "ename": "SyntaxError",
          "evalue": "ignored",
          "traceback": [
            "\u001b[0;36m  File \u001b[0;32m\"<ipython-input-2-53d9ebc2fe44>\"\u001b[0;36m, line \u001b[0;32m1\u001b[0m\n\u001b[0;31m    x=\"She said \"hi\"\"\u001b[0m\n\u001b[0m                 ^\u001b[0m\n\u001b[0;31mSyntaxError\u001b[0m\u001b[0;31m:\u001b[0m invalid syntax\n"
          ]
        }
      ],
      "source": [
        "x=\"She said \"hi\"\"\n",
        "print(x)"
      ]
    },
    {
      "cell_type": "markdown",
      "metadata": {
        "id": "3YSvGS6-LydR"
      },
      "source": [
        "Since the string is a double quote string, it can not have double quotes in itself. If it does, Python does not know which double quotes end the string. To fix this, you can *escape* (using `\\`) the double quotes inside of the string."
      ]
    },
    {
      "cell_type": "code",
      "execution_count": null,
      "metadata": {
        "colab": {
          "base_uri": "https://localhost:8080/"
        },
        "execution": {
          "iopub.execute_input": "2022-12-19T18:50:20.288506Z",
          "iopub.status.busy": "2022-12-19T18:50:20.288283Z",
          "iopub.status.idle": "2022-12-19T18:50:20.291492Z",
          "shell.execute_reply": "2022-12-19T18:50:20.291000Z"
        },
        "id": "k2y0ojcvLtMI",
        "outputId": "bb13bcc2-cbfe-4246-ade0-4af6f21051e0"
      },
      "outputs": [
        {
          "output_type": "stream",
          "name": "stdout",
          "text": [
            "She said \"hi\"\n"
          ]
        }
      ],
      "source": [
        "x=\"She said \\\"hi\\\"\"\n",
        "print(x)"
      ]
    },
    {
      "cell_type": "markdown",
      "metadata": {
        "id": "YFLqdwWkMO9S"
      },
      "source": [
        "Alternatively, you could use single quotes."
      ]
    },
    {
      "cell_type": "code",
      "execution_count": null,
      "metadata": {
        "colab": {
          "base_uri": "https://localhost:8080/"
        },
        "execution": {
          "iopub.execute_input": "2022-12-19T18:50:20.293241Z",
          "iopub.status.busy": "2022-12-19T18:50:20.293134Z",
          "iopub.status.idle": "2022-12-19T18:50:20.295408Z",
          "shell.execute_reply": "2022-12-19T18:50:20.295069Z"
        },
        "id": "KpvXoUTOMSHO",
        "outputId": "5bda06dd-cb8f-4c4a-aee2-a885e5b11faf"
      },
      "outputs": [
        {
          "output_type": "stream",
          "name": "stdout",
          "text": [
            "She said \"hi\"\n"
          ]
        }
      ],
      "source": [
        "x='She said \"hi\"'\n",
        "print(x)"
      ]
    },
    {
      "cell_type": "markdown",
      "metadata": {
        "id": "VnqmRd_PM-j7"
      },
      "source": [
        "## String Formatting\n",
        "\n",
        "There are a number of ways to format strings in Python.\n",
        "\n",
        "Some of the more common ways include:\n",
        "- `+`: String concatenation\n",
        "  - Combines strings together\n",
        "- `f`: F strings\n",
        "  - Substitues anything in `{...}` as the executed Python code it contains\n",
        "- `format`: Format\n",
        "  - Allows specifying variables in `{...}` that can be passed as arguments to be formatted\n",
        "\n",
        "Occasionally, you might also see the old format method:\n",
        "- `%`: Printf-style formatting via operator `%`\n",
        "\n"
      ]
    },
    {
      "cell_type": "code",
      "execution_count": null,
      "metadata": {
        "colab": {
          "base_uri": "https://localhost:8080/"
        },
        "execution": {
          "iopub.execute_input": "2022-12-19T18:50:20.297362Z",
          "iopub.status.busy": "2022-12-19T18:50:20.297244Z",
          "iopub.status.idle": "2022-12-19T18:50:20.299691Z",
          "shell.execute_reply": "2022-12-19T18:50:20.299346Z"
        },
        "id": "1r5GOw_5O7e0",
        "outputId": "c007aaac-c550-4a71-fe57-8d2ee7d5cae3"
      },
      "outputs": [
        {
          "output_type": "stream",
          "name": "stdout",
          "text": [
            "Hello World!\n"
          ]
        }
      ],
      "source": [
        "# Using concatenation\n",
        "print(\"Hello\"+' '+'World!')"
      ]
    },
    {
      "cell_type": "code",
      "execution_count": null,
      "metadata": {
        "colab": {
          "base_uri": "https://localhost:8080/"
        },
        "execution": {
          "iopub.execute_input": "2022-12-19T18:50:20.297362Z",
          "iopub.status.busy": "2022-12-19T18:50:20.297244Z",
          "iopub.status.idle": "2022-12-19T18:50:20.299691Z",
          "shell.execute_reply": "2022-12-19T18:50:20.299346Z"
        },
        "outputId": "fff00b2c-40e9-4a37-c3f7-840fb05f111c",
        "id": "DKtJUBZahRqV"
      },
      "outputs": [
        {
          "output_type": "stream",
          "name": "stdout",
          "text": [
            "Hello World!\n"
          ]
        }
      ],
      "source": [
        "# Using format\n",
        "print(\"Hello {answer}!\".format(answer=\"World\"))"
      ]
    },
    {
      "cell_type": "code",
      "execution_count": null,
      "metadata": {
        "colab": {
          "base_uri": "https://localhost:8080/"
        },
        "execution": {
          "iopub.execute_input": "2022-12-19T18:50:20.297362Z",
          "iopub.status.busy": "2022-12-19T18:50:20.297244Z",
          "iopub.status.idle": "2022-12-19T18:50:20.299691Z",
          "shell.execute_reply": "2022-12-19T18:50:20.299346Z"
        },
        "outputId": "5fdcba2f-4aa9-4c74-931d-b5a277340f8d",
        "id": "mg3CjVaGhRwX"
      },
      "outputs": [
        {
          "output_type": "stream",
          "name": "stdout",
          "text": [
            "Hello World!\n"
          ]
        }
      ],
      "source": [
        "# Using %\n",
        "print(\"Hello %s!\" % 'World')"
      ]
    }
  ],
  "metadata": {
    "colab": {
      "provenance": [],
      "include_colab_link": true
    },
    "kernelspec": {
      "display_name": "Python 3 (ipykernel)",
      "language": "python",
      "name": "python3"
    },
    "language_info": {
      "codemirror_mode": {
        "name": "ipython",
        "version": 3
      },
      "file_extension": ".py",
      "mimetype": "text/x-python",
      "name": "python",
      "nbconvert_exporter": "python",
      "pygments_lexer": "ipython3",
      "version": "3.10.9"
    }
  },
  "nbformat": 4,
  "nbformat_minor": 0
}