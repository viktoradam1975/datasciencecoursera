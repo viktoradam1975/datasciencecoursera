{
  "cells": [
    {
      "cell_type": "markdown",
      "metadata": {
        "id": "view-in-github",
        "colab_type": "text"
      },
      "source": [
        "<a href=\"https://colab.research.google.com/github/viktoradam1975/datasciencecoursera/blob/master/07_Looping.ipynb\" target=\"_parent\"><img src=\"https://colab.research.google.com/assets/colab-badge.svg\" alt=\"Open In Colab\"/></a>"
      ]
    },
    {
      "cell_type": "markdown",
      "metadata": {
        "id": "wySDuaFok21e"
      },
      "source": [
        "# Looping and Iteration\n",
        "\n",
        "Looping and iteration are foundational parts of programming in Python. They allow you to access or modify items given an iterable entity (list, dict, tuple...)."
      ]
    },
    {
      "cell_type": "markdown",
      "metadata": {
        "id": "6R5hc49Jg8hO"
      },
      "source": [
        "## For and While Loops\n",
        "\n",
        "Some of the common loop and iteration processes include:\n",
        "- `for` loops: Loop over an iteratable entity\n",
        "- `while` loops: Loop while a condition is met\n",
        "\n",
        "These loops start as a statement followed by a colon (`:`) and loop over all content indented (4 spaces) after the initial statement. The basic nomenclature is:\n",
        "\n",
        "```\n",
        "for <variable> in <iterator>:\n",
        "    <do something>\n",
        "    <do something else>\n",
        "    ...\n",
        "\n",
        "<code that runs after loop>\n",
        "```\n",
        "\n",
        "NOTE: Python officially recommends 4 spaces for indentation style, however, Google recommends 2. If you use two spaces, your code may work with Google products, but possibly not on other platforms. If you use 4 spaces, it should work on both.\n",
        "\n",
        "Loops allow creating a loop variable that is assigned each item in the iterable as the loop progresses.\n",
        "\n",
        "An example `for` loop:"
      ]
    },
    {
      "cell_type": "code",
      "execution_count": null,
      "metadata": {
        "colab": {
          "base_uri": "https://localhost:8080/"
        },
        "execution": {
          "iopub.execute_input": "2022-12-19T18:50:16.662510Z",
          "iopub.status.busy": "2022-12-19T18:50:16.662312Z",
          "iopub.status.idle": "2022-12-19T18:50:16.669272Z",
          "shell.execute_reply": "2022-12-19T18:50:16.668730Z"
        },
        "id": "RiJg1yXCk0bD",
        "outputId": "41fb2f8b-3743-493e-b3f3-85aa6b151977"
      },
      "outputs": [
        {
          "output_type": "stream",
          "name": "stdout",
          "text": [
            "a\n",
            "b\n",
            "c\n"
          ]
        }
      ],
      "source": [
        "for i in ['a','b','c']:\n",
        "    print(i)"
      ]
    },
    {
      "cell_type": "markdown",
      "metadata": {
        "id": "dbA-25ZQ71rC"
      },
      "source": [
        "Notice how we are actually calling the print statement for each item in the list.\n",
        "\n",
        "This would be equivalent to:"
      ]
    },
    {
      "cell_type": "code",
      "execution_count": null,
      "metadata": {
        "colab": {
          "base_uri": "https://localhost:8080/"
        },
        "execution": {
          "iopub.execute_input": "2022-12-19T18:50:16.694944Z",
          "iopub.status.busy": "2022-12-19T18:50:16.694740Z",
          "iopub.status.idle": "2022-12-19T18:50:16.698189Z",
          "shell.execute_reply": "2022-12-19T18:50:16.697596Z"
        },
        "id": "45U2HjL67-Gh",
        "outputId": "b9009c67-fe37-4e46-bd28-8ba6f88812db"
      },
      "outputs": [
        {
          "output_type": "stream",
          "name": "stdout",
          "text": [
            "a\n",
            "b\n",
            "c\n"
          ]
        }
      ],
      "source": [
        "print('a')\n",
        "print('b')\n",
        "print('c')"
      ]
    },
    {
      "cell_type": "markdown",
      "metadata": {
        "id": "UzcooKZ_8EHK"
      },
      "source": [
        "This is helpful when working with lists of a large number of items.\n",
        "\n",
        "\n",
        "Inside of each loop (indented area) you can do more complicated functions as needed. When the loop finishes, code execution proceeds to the next step outside of the loop."
      ]
    },
    {
      "cell_type": "code",
      "execution_count": null,
      "metadata": {
        "colab": {
          "base_uri": "https://localhost:8080/"
        },
        "execution": {
          "iopub.execute_input": "2022-12-19T18:50:16.700245Z",
          "iopub.status.busy": "2022-12-19T18:50:16.699885Z",
          "iopub.status.idle": "2022-12-19T18:50:16.703425Z",
          "shell.execute_reply": "2022-12-19T18:50:16.702845Z"
        },
        "id": "_3781oCR8QUh",
        "outputId": "4cb57a67-04e8-48c2-fd09-6366d9041741"
      },
      "outputs": [
        {
          "output_type": "stream",
          "name": "stdout",
          "text": [
            "4\n",
            "9\n",
            "16\n",
            "Loop Finished\n"
          ]
        }
      ],
      "source": [
        "for i in [1,2,3]:\n",
        "    temp_item = i+1\n",
        "    temp_item_squared = temp_item**2\n",
        "    print(temp_item_squared)\n",
        "\n",
        "print(\"Loop Finished\")"
      ]
    },
    {
      "cell_type": "code",
      "execution_count": null,
      "metadata": {
        "colab": {
          "base_uri": "https://localhost:8080/"
        },
        "execution": {
          "iopub.execute_input": "2022-12-19T18:50:16.700245Z",
          "iopub.status.busy": "2022-12-19T18:50:16.699885Z",
          "iopub.status.idle": "2022-12-19T18:50:16.703425Z",
          "shell.execute_reply": "2022-12-19T18:50:16.702845Z"
        },
        "outputId": "88bdc7bb-0633-42f4-ada4-2e1e59dcb500",
        "id": "Ybt_nEyEjQcE"
      },
      "outputs": [
        {
          "output_type": "stream",
          "name": "stdout",
          "text": [
            "9\n",
            "13\n",
            "3\n",
            "10\n",
            "8\n"
          ]
        }
      ],
      "source": [
        "z=[8,12,2,9,7]\n",
        "\n",
        "for i in z:\n",
        "    y= i+1\n",
        "    print(y)"
      ]
    },
    {
      "cell_type": "markdown",
      "metadata": {
        "id": "ub_INDnn89d_"
      },
      "source": [
        "As for `while` loops, they operate very similar to `for` loops, except they continue to loop while some conditional argument is satisfied. This requires some type of logical operator in the loop statement.\n",
        "\n",
        "This logical operator is tested after completing each iteration given the current variables in the runtime. Using this allows you edit variables as you go to check if a condition is met.\n",
        "\n",
        "A simple `while` loop:"
      ]
    },
    {
      "cell_type": "code",
      "execution_count": null,
      "metadata": {
        "colab": {
          "base_uri": "https://localhost:8080/"
        },
        "execution": {
          "iopub.execute_input": "2022-12-19T18:50:16.704918Z",
          "iopub.status.busy": "2022-12-19T18:50:16.704812Z",
          "iopub.status.idle": "2022-12-19T18:50:16.707486Z",
          "shell.execute_reply": "2022-12-19T18:50:16.707075Z"
        },
        "id": "RII2JsWT9L5N",
        "outputId": "4ca7c1ff-2843-4a24-aa08-e8b51355c664"
      },
      "outputs": [
        {
          "output_type": "stream",
          "name": "stdout",
          "text": [
            "1\n",
            "2\n",
            "3\n",
            "4\n",
            "5\n",
            "Loop Finished\n"
          ]
        }
      ],
      "source": [
        "x=0\n",
        "while x<5:\n",
        "    # Add one to x in place\n",
        "    # The below function is equivalent to `x=x+1`\n",
        "    x+=1\n",
        "    print(x)\n",
        "\n",
        "print(\"Loop Finished\")\n",
        "\n"
      ]
    },
    {
      "cell_type": "markdown",
      "metadata": {
        "id": "d60e4oxV-YCB"
      },
      "source": [
        "Moving back to `for` loops, you can use any iterator object to loop over. This can include ranges or dictionaries."
      ]
    },
    {
      "cell_type": "code",
      "execution_count": null,
      "metadata": {
        "colab": {
          "base_uri": "https://localhost:8080/"
        },
        "execution": {
          "iopub.execute_input": "2022-12-19T18:50:16.709155Z",
          "iopub.status.busy": "2022-12-19T18:50:16.708906Z",
          "iopub.status.idle": "2022-12-19T18:50:16.711324Z",
          "shell.execute_reply": "2022-12-19T18:50:16.710914Z"
        },
        "id": "tj7Lx_U9-nkS",
        "outputId": "7214343c-0965-4307-ced4-16482707fad1"
      },
      "outputs": [
        {
          "output_type": "stream",
          "name": "stdout",
          "text": [
            "1\n",
            "2\n",
            "3\n",
            "4\n"
          ]
        }
      ],
      "source": [
        "for i in range(1,5):\n",
        "    print(i)"
      ]
    },
    {
      "cell_type": "code",
      "execution_count": null,
      "metadata": {
        "colab": {
          "base_uri": "https://localhost:8080/"
        },
        "execution": {
          "iopub.execute_input": "2022-12-19T18:50:16.713172Z",
          "iopub.status.busy": "2022-12-19T18:50:16.712792Z",
          "iopub.status.idle": "2022-12-19T18:50:16.715914Z",
          "shell.execute_reply": "2022-12-19T18:50:16.715414Z"
        },
        "id": "UNOWTqXC-ryy",
        "outputId": "5e69720d-ccba-4ddc-9133-e1222f011903"
      },
      "outputs": [
        {
          "output_type": "stream",
          "name": "stdout",
          "text": [
            "a\n",
            "b\n",
            "c\n"
          ]
        }
      ],
      "source": [
        "y={\n",
        "  'a':1,\n",
        "  'b':2,\n",
        "  'c':3\n",
        "}\n",
        "for i in y.keys():\n",
        "    print(i)"
      ]
    },
    {
      "cell_type": "code",
      "execution_count": null,
      "metadata": {
        "colab": {
          "base_uri": "https://localhost:8080/"
        },
        "execution": {
          "iopub.execute_input": "2022-12-19T18:50:16.718041Z",
          "iopub.status.busy": "2022-12-19T18:50:16.717806Z",
          "iopub.status.idle": "2022-12-19T18:50:16.720673Z",
          "shell.execute_reply": "2022-12-19T18:50:16.720223Z"
        },
        "id": "VWLWO0V5-_1Y",
        "outputId": "3b128537-ca1c-4d4b-8dc2-c36b28453fa9"
      },
      "outputs": [
        {
          "output_type": "stream",
          "name": "stdout",
          "text": [
            "1\n",
            "2\n",
            "3\n"
          ]
        }
      ],
      "source": [
        "for i in y.values():\n",
        "    print(i)"
      ]
    },
    {
      "cell_type": "markdown",
      "metadata": {
        "id": "hAHdkF4D_IQp"
      },
      "source": [
        "If you you are looping over a list of tuples, you can use positional assignment to loop multiple variables at once."
      ]
    },
    {
      "cell_type": "code",
      "execution_count": null,
      "metadata": {
        "colab": {
          "base_uri": "https://localhost:8080/"
        },
        "execution": {
          "iopub.execute_input": "2022-12-19T18:50:16.722506Z",
          "iopub.status.busy": "2022-12-19T18:50:16.722383Z",
          "iopub.status.idle": "2022-12-19T18:50:16.725257Z",
          "shell.execute_reply": "2022-12-19T18:50:16.724842Z"
        },
        "id": "wZATCm6l_OzW",
        "outputId": "94088685-582d-4598-b0fd-aaf5d1b28ded"
      },
      "outputs": [
        {
          "output_type": "stream",
          "name": "stdout",
          "text": [
            "i: a\n",
            "j: z\n",
            "i: b\n",
            "j: y\n",
            "i: c\n",
            "j: x\n"
          ]
        }
      ],
      "source": [
        "data = [('a','z'),('b','y'),('c','x')]\n",
        "for i, j in data:\n",
        "    print('i:',i)\n",
        "    print('j:',j)"
      ]
    },
    {
      "cell_type": "markdown",
      "metadata": {
        "id": "kiuwF9-F_ps9"
      },
      "source": [
        "This can be very useful in certain circumstances. A very common circumstance where this is useful is looping over dictionary items."
      ]
    },
    {
      "cell_type": "code",
      "execution_count": null,
      "metadata": {
        "colab": {
          "base_uri": "https://localhost:8080/"
        },
        "execution": {
          "iopub.execute_input": "2022-12-19T18:50:16.726773Z",
          "iopub.status.busy": "2022-12-19T18:50:16.726668Z",
          "iopub.status.idle": "2022-12-19T18:50:16.729377Z",
          "shell.execute_reply": "2022-12-19T18:50:16.728899Z"
        },
        "id": "Zgi0uxov_yyx",
        "outputId": "d877c244-c88d-4d43-d2ab-ea8eea98eb1c"
      },
      "outputs": [
        {
          "output_type": "stream",
          "name": "stdout",
          "text": [
            "key:  a\n",
            "value:  1\n",
            "key:  b\n",
            "value:  2\n",
            "key:  c\n",
            "value:  3\n"
          ]
        }
      ],
      "source": [
        "y={\n",
        "  'a':1,\n",
        "  'b':2,\n",
        "  'c':3\n",
        "}\n",
        "for key, value in y.items():\n",
        "    print(\"key: \",key)\n",
        "    print(\"value: \", value)"
      ]
    },
    {
      "cell_type": "markdown",
      "metadata": {
        "id": "eNJ0Mi0CC8Cx"
      },
      "source": [
        "## List Comprehension\n",
        "\n",
        "List comprehension allows you to create lists using iterators with minimal code.\n",
        "\n",
        "The basic syntax is:\n",
        "\n",
        "```\n",
        "[<statement> for <variable> in <iterator>]\n",
        "```\n",
        "\n",
        "As an example:"
      ]
    },
    {
      "cell_type": "code",
      "execution_count": null,
      "metadata": {
        "colab": {
          "base_uri": "https://localhost:8080/"
        },
        "execution": {
          "iopub.execute_input": "2022-12-19T18:50:16.731305Z",
          "iopub.status.busy": "2022-12-19T18:50:16.730888Z",
          "iopub.status.idle": "2022-12-19T18:50:16.733798Z",
          "shell.execute_reply": "2022-12-19T18:50:16.733316Z"
        },
        "id": "P92L2F1KDvLS",
        "outputId": "547a57e8-6a5a-4a67-bfc9-5b68a89c3b15"
      },
      "outputs": [
        {
          "output_type": "stream",
          "name": "stdout",
          "text": [
            "[0, 1, 2, 3, 4]\n"
          ]
        }
      ],
      "source": [
        "x=[i for i in range(5)]\n",
        "print(x)"
      ]
    },
    {
      "cell_type": "markdown",
      "metadata": {
        "id": "8PCkXZUBD5u9"
      },
      "source": [
        "This would be equivalent to:"
      ]
    },
    {
      "cell_type": "code",
      "execution_count": null,
      "metadata": {
        "colab": {
          "base_uri": "https://localhost:8080/"
        },
        "execution": {
          "iopub.execute_input": "2022-12-19T18:50:16.735731Z",
          "iopub.status.busy": "2022-12-19T18:50:16.735295Z",
          "iopub.status.idle": "2022-12-19T18:50:16.738299Z",
          "shell.execute_reply": "2022-12-19T18:50:16.737820Z"
        },
        "id": "tHZoE0pCD77d",
        "outputId": "2bc84d1c-abcf-4fc8-9e82-4b1c35e5261f"
      },
      "outputs": [
        {
          "output_type": "stream",
          "name": "stdout",
          "text": [
            "[0, 1, 2, 3, 4]\n"
          ]
        }
      ],
      "source": [
        "x=[]\n",
        "for i in range(5):\n",
        "    x.append(i)\n",
        "\n",
        "print(x)"
      ]
    },
    {
      "cell_type": "markdown",
      "metadata": {
        "id": "aTChqe5dELze"
      },
      "source": [
        "Taking that a bit further, we can do a more complicated example like storing the square of each number in a range."
      ]
    },
    {
      "cell_type": "code",
      "execution_count": null,
      "metadata": {
        "colab": {
          "base_uri": "https://localhost:8080/"
        },
        "execution": {
          "iopub.execute_input": "2022-12-19T18:50:16.740180Z",
          "iopub.status.busy": "2022-12-19T18:50:16.739788Z",
          "iopub.status.idle": "2022-12-19T18:50:16.742721Z",
          "shell.execute_reply": "2022-12-19T18:50:16.742236Z"
        },
        "id": "mDPAztSBETED",
        "outputId": "5e0b2e74-be7b-4135-d163-c9b49f6a267d"
      },
      "outputs": [
        {
          "output_type": "stream",
          "name": "stdout",
          "text": [
            "[0, 1, 4, 9, 16]\n"
          ]
        }
      ],
      "source": [
        "# Get the square numbers in a range\n",
        "x=[i**2 for i in range(5)]\n",
        "print(x)"
      ]
    },
    {
      "cell_type": "markdown",
      "metadata": {
        "id": "z7f9_EfIExPf"
      },
      "source": [
        "List comprehensions also support `if` statements. The basic syntax is:\n",
        "\n",
        "```\n",
        "[<statement> for <variable> in <iterator> if <condition>]\n",
        "```\n",
        "\n",
        "As an example, to only collect even numbers:"
      ]
    },
    {
      "cell_type": "code",
      "execution_count": null,
      "metadata": {
        "colab": {
          "base_uri": "https://localhost:8080/"
        },
        "execution": {
          "iopub.execute_input": "2022-12-19T18:50:16.744833Z",
          "iopub.status.busy": "2022-12-19T18:50:16.744679Z",
          "iopub.status.idle": "2022-12-19T18:50:16.747632Z",
          "shell.execute_reply": "2022-12-19T18:50:16.747218Z"
        },
        "id": "Bgn-CKu7Eshw",
        "outputId": "d132759a-6dd2-49b3-c286-3c6e36f109c3"
      },
      "outputs": [
        {
          "output_type": "stream",
          "name": "stdout",
          "text": [
            "[0, 2, 4]\n"
          ]
        }
      ],
      "source": [
        "# Remember that the `%` operator means modulo (or remainder after division)\n",
        "# We only store numbers if the remainder of dividing by 2 is 0 or `i%2==0`\n",
        "x=[i for i in range(5) if i%2==0]\n",
        "print(x)"
      ]
    }
  ],
  "metadata": {
    "colab": {
      "provenance": [],
      "include_colab_link": true
    },
    "kernelspec": {
      "display_name": "Python 3",
      "name": "python3"
    },
    "language_info": {
      "codemirror_mode": {
        "name": "ipython",
        "version": 3
      },
      "file_extension": ".py",
      "mimetype": "text/x-python",
      "name": "python",
      "nbconvert_exporter": "python",
      "pygments_lexer": "ipython3",
      "version": "3.10.9"
    }
  },
  "nbformat": 4,
  "nbformat_minor": 0
}