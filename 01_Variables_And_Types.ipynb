{
  "cells": [
    {
      "cell_type": "markdown",
      "metadata": {
        "id": "view-in-github",
        "colab_type": "text"
      },
      "source": [
        "<a href=\"https://colab.research.google.com/github/viktoradam1975/datasciencecoursera/blob/master/01_Variables_And_Types.ipynb\" target=\"_parent\"><img src=\"https://colab.research.google.com/assets/colab-badge.svg\" alt=\"Open In Colab\"/></a>"
      ]
    },
    {
      "cell_type": "markdown",
      "metadata": {
        "id": "6lzy_PZPNWNA"
      },
      "source": [
        "# Variables and Types"
      ]
    },
    {
      "cell_type": "markdown",
      "metadata": {
        "id": "T7vyqYMhqyrD"
      },
      "source": [
        "## Variables\n",
        "\n",
        "Variables are symbolic names that are used to refer to some arbitrary object. In Python, the object that is referenced can take different types. In one of the most simple forms, it can represent a numeric integer."
      ]
    },
    {
      "cell_type": "markdown",
      "metadata": {
        "id": "tmiss1rXq4CZ"
      },
      "source": [
        "An `=` sign is used to assign a name or a value to an object.\n",
        "\n",
        "Variables must be made up of only alphanumeric characters or underscores (`a-Z`, `0-9`, `_`), but cannot start with a number. They are also case-sensitive, meaning that `abc`, `Abc`, `ABC` are all different variables."
      ]
    },
    {
      "cell_type": "markdown",
      "metadata": {
        "id": "rcX39eyYVvZ0"
      },
      "source": [
        "Let's see an example of variable assignment:"
      ]
    },
    {
      "cell_type": "code",
      "execution_count": null,
      "metadata": {
        "execution": {
          "iopub.execute_input": "2022-12-19T18:50:21.855946Z",
          "iopub.status.busy": "2022-12-19T18:50:21.855714Z",
          "iopub.status.idle": "2022-12-19T18:50:21.863088Z",
          "shell.execute_reply": "2022-12-19T18:50:21.862544Z"
        },
        "id": "9BFL6n47MSmU"
      },
      "outputs": [],
      "source": [
        "x=1"
      ]
    },
    {
      "cell_type": "markdown",
      "metadata": {
        "id": "_6-JXWa9XALk"
      },
      "source": [
        "But wait, nothing happened... Actually something did happen. Variables are stored to be accessed later. In a notebook (like Google Colab or Jupyter), these variables are stored in a runtime and available to be called after code has been run that assigns a value to a variable.\n",
        "\n",
        "We can use a print statement to see the output of a variable. See the output below the code cell."
      ]
    },
    {
      "cell_type": "code",
      "execution_count": null,
      "metadata": {
        "colab": {
          "base_uri": "https://localhost:8080/"
        },
        "execution": {
          "iopub.execute_input": "2022-12-19T18:50:21.865116Z",
          "iopub.status.busy": "2022-12-19T18:50:21.864998Z",
          "iopub.status.idle": "2022-12-19T18:50:21.867968Z",
          "shell.execute_reply": "2022-12-19T18:50:21.867515Z"
        },
        "id": "PFHkX0vrO_86",
        "outputId": "d40e9f5f-27af-4276-8799-aafc3f710ea5"
      },
      "outputs": [
        {
          "output_type": "stream",
          "name": "stdout",
          "text": [
            "1\n"
          ]
        }
      ],
      "source": [
        "print(x)"
      ]
    },
    {
      "cell_type": "markdown",
      "metadata": {
        "id": "CK0spaftevkN"
      },
      "source": [
        "Multiple variables can be assigned and used in conjunction to create new variables."
      ]
    },
    {
      "cell_type": "code",
      "execution_count": null,
      "metadata": {
        "colab": {
          "base_uri": "https://localhost:8080/"
        },
        "execution": {
          "iopub.execute_input": "2022-12-19T18:50:21.914728Z",
          "iopub.status.busy": "2022-12-19T18:50:21.914569Z",
          "iopub.status.idle": "2022-12-19T18:50:21.917542Z",
          "shell.execute_reply": "2022-12-19T18:50:21.917071Z"
        },
        "id": "vhR-_Ou3T2ID",
        "outputId": "fb2437d0-9c6a-4d45-86d9-c0bf70918432"
      },
      "outputs": [
        {
          "output_type": "stream",
          "name": "stdout",
          "text": [
            "895\n"
          ]
        }
      ],
      "source": [
        "x=859\n",
        "y=36\n",
        "z=x+y\n",
        "print(z)"
      ]
    },
    {
      "cell_type": "markdown",
      "metadata": {
        "id": "VA3zwXv4vMUM"
      },
      "source": [
        "Variables can be overwritten as needed. However, the value of an overwritten variable will change ONLY for any code cell you run after you overwrote it."
      ]
    },
    {
      "cell_type": "code",
      "execution_count": null,
      "metadata": {
        "colab": {
          "base_uri": "https://localhost:8080/"
        },
        "execution": {
          "iopub.execute_input": "2022-12-19T18:50:21.919771Z",
          "iopub.status.busy": "2022-12-19T18:50:21.919328Z",
          "iopub.status.idle": "2022-12-19T18:50:21.921861Z",
          "shell.execute_reply": "2022-12-19T18:50:21.921470Z"
        },
        "id": "M8a0wjPXvPfY",
        "outputId": "336f5a82-76ac-4749-be6a-d87f9207be29"
      },
      "outputs": [
        {
          "output_type": "stream",
          "name": "stdout",
          "text": [
            "895\n"
          ]
        }
      ],
      "source": [
        "y=159\n",
        "print(z)"
      ]
    },
    {
      "cell_type": "markdown",
      "metadata": {
        "id": "jOnbPDc8PQr5"
      },
      "source": [
        "## Types\n",
        "\n",
        "Anything you assign to a variable has a type. Python has built in types.\n",
        "\n",
        "You may sometimes see the term `built in`. This means *built into Python without the need to use any external or custom code*.\n",
        "\n",
        "Let's cover some basic and very common built in types.\n",
        "\n",
        "- `int`: A numeric integer\n",
        "- `float`: A floating point number (has decimal places)\n",
        "- `str`: A string (enclosed in single or double quotes)\n",
        "- `bool`: A boolean value (`True` or `False`)\n",
        "\n",
        "When you initialize (create) variables with certain inputs, Python will automatically determine the object type for you."
      ]
    },
    {
      "cell_type": "code",
      "execution_count": null,
      "metadata": {
        "execution": {
          "iopub.execute_input": "2022-12-19T18:50:21.923629Z",
          "iopub.status.busy": "2022-12-19T18:50:21.923523Z",
          "iopub.status.idle": "2022-12-19T18:50:21.925952Z",
          "shell.execute_reply": "2022-12-19T18:50:21.925420Z"
        },
        "id": "TrKz0dKJPP2m"
      },
      "outputs": [],
      "source": [
        "my_int=5\n",
        "my_float=7.9\n",
        "my_str='Hi There'\n",
        "my_bool=True"
      ]
    },
    {
      "cell_type": "markdown",
      "metadata": {
        "id": "oN5ngf3etfP1"
      },
      "source": [
        "Type can be determined for any variable by calling `type(variable_name)`"
      ]
    },
    {
      "cell_type": "code",
      "execution_count": null,
      "metadata": {
        "colab": {
          "base_uri": "https://localhost:8080/"
        },
        "execution": {
          "iopub.execute_input": "2022-12-19T18:50:21.927969Z",
          "iopub.status.busy": "2022-12-19T18:50:21.927494Z",
          "iopub.status.idle": "2022-12-19T18:50:21.930464Z",
          "shell.execute_reply": "2022-12-19T18:50:21.929973Z"
        },
        "id": "vQtFMd-JPPHJ",
        "outputId": "73d34c89-3462-4619-aa4f-e0959ae30392"
      },
      "outputs": [
        {
          "output_type": "stream",
          "name": "stdout",
          "text": [
            "<class 'float'>\n"
          ]
        }
      ],
      "source": [
        "print(type(my_float))"
      ]
    },
    {
      "cell_type": "code",
      "execution_count": null,
      "metadata": {
        "colab": {
          "base_uri": "https://localhost:8080/"
        },
        "execution": {
          "iopub.execute_input": "2022-12-19T18:50:21.932027Z",
          "iopub.status.busy": "2022-12-19T18:50:21.931869Z",
          "iopub.status.idle": "2022-12-19T18:50:21.934714Z",
          "shell.execute_reply": "2022-12-19T18:50:21.934345Z"
        },
        "id": "VZ3FsKTygk5-",
        "outputId": "09d99501-5b47-41a2-ecc0-2de68d734cb0"
      },
      "outputs": [
        {
          "output_type": "stream",
          "name": "stdout",
          "text": [
            "<class 'str'>\n"
          ]
        }
      ],
      "source": [
        "print(type(my_str))"
      ]
    },
    {
      "cell_type": "markdown",
      "metadata": {
        "id": "1bMPTZGtU08s"
      },
      "source": [
        "Certain types can interact with other types using operators (like `+`)"
      ]
    },
    {
      "cell_type": "code",
      "execution_count": null,
      "metadata": {
        "colab": {
          "base_uri": "https://localhost:8080/"
        },
        "execution": {
          "iopub.execute_input": "2022-12-19T18:50:21.936724Z",
          "iopub.status.busy": "2022-12-19T18:50:21.936391Z",
          "iopub.status.idle": "2022-12-19T18:50:21.938800Z",
          "shell.execute_reply": "2022-12-19T18:50:21.938467Z"
        },
        "id": "eejnRtgSUSPI",
        "outputId": "401813dd-5d30-4f04-aadb-500fa67244a1"
      },
      "outputs": [
        {
          "output_type": "stream",
          "name": "stdout",
          "text": [
            "12.9\n",
            "<class 'float'>\n"
          ]
        }
      ],
      "source": [
        "a=my_int+my_float\n",
        "print(a)\n",
        "print(type(a))"
      ]
    },
    {
      "cell_type": "markdown",
      "metadata": {
        "id": "thHX4PDUtpNI"
      },
      "source": [
        "At the same time some types can not interact depending on the operator used."
      ]
    },
    {
      "cell_type": "code",
      "execution_count": null,
      "metadata": {
        "colab": {
          "base_uri": "https://localhost:8080/",
          "height": 176
        },
        "execution": {
          "iopub.execute_input": "2022-12-19T18:50:21.940553Z",
          "iopub.status.busy": "2022-12-19T18:50:21.940445Z",
          "iopub.status.idle": "2022-12-19T18:50:22.048617Z",
          "shell.execute_reply": "2022-12-19T18:50:22.048162Z"
        },
        "id": "WOK6WS4FuLzz",
        "outputId": "d98d5b78-988a-491a-c953-bb1c9349060e"
      },
      "outputs": [
        {
          "output_type": "error",
          "ename": "TypeError",
          "evalue": "ignored",
          "traceback": [
            "\u001b[0;31m---------------------------------------------------------------------------\u001b[0m",
            "\u001b[0;31mTypeError\u001b[0m                                 Traceback (most recent call last)",
            "\u001b[0;32m<ipython-input-9-9d88f9369d4e>\u001b[0m in \u001b[0;36m<cell line: 1>\u001b[0;34m()\u001b[0m\n\u001b[0;32m----> 1\u001b[0;31m \u001b[0mprint\u001b[0m\u001b[0;34m(\u001b[0m\u001b[0mmy_int\u001b[0m\u001b[0;34m+\u001b[0m\u001b[0mmy_str\u001b[0m\u001b[0;34m)\u001b[0m\u001b[0;34m\u001b[0m\u001b[0;34m\u001b[0m\u001b[0m\n\u001b[0m",
            "\u001b[0;31mTypeError\u001b[0m: unsupported operand type(s) for +: 'int' and 'str'"
          ]
        }
      ],
      "source": [
        "print(my_int+my_str)"
      ]
    },
    {
      "cell_type": "markdown",
      "metadata": {
        "id": "rXtbE3hTuSIQ"
      },
      "source": [
        "Luckily, Python has many helpful exception warnings to let you know where things did not work and why."
      ]
    }
  ],
  "metadata": {
    "colab": {
      "provenance": [],
      "include_colab_link": true
    },
    "kernelspec": {
      "display_name": "Python 3 (ipykernel)",
      "language": "python",
      "name": "python3"
    },
    "language_info": {
      "codemirror_mode": {
        "name": "ipython",
        "version": 3
      },
      "file_extension": ".py",
      "mimetype": "text/x-python",
      "name": "python",
      "nbconvert_exporter": "python",
      "pygments_lexer": "ipython3",
      "version": "3.10.9"
    }
  },
  "nbformat": 4,
  "nbformat_minor": 0
}